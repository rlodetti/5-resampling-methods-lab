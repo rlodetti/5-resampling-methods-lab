{
 "cells": [
  {
   "cell_type": "markdown",
   "metadata": {},
   "source": [
    "# Resampling Methods - Lab\n",
    "\n",
    "## Introduction\n",
    "\n",
    "Now that you have some preliminary background on bootstrapping, jackknife, and permutation tests, its time to practice those skills by coding them into functions. You'll then apply these tests to a hypothesis test and compare the results to a parametric t-test.\n",
    "\n",
    "## Objectives\n",
    "\n",
    "In this lab you will: \n",
    "\n",
    "* Create functions that perform resampling techniques and use them on datasets"
   ]
  },
  {
   "cell_type": "markdown",
   "metadata": {},
   "source": [
    "## Bootstrap sampling\n",
    "\n",
    "\n",
    "Bootstrap sampling works by combining two distinct samples into a universal set and generating random samples from this combined sample space in order to compare these random splits to the two original samples. The idea is to see if the difference between the two **original** samples is statistically significant. If similar differences can be observed through the random generation of samples, then the observed differences are not actually significant.\n",
    "\n",
    "\n",
    "Write a function to perform bootstrap sampling. The function should take in two samples A and B. The two samples need not be the same size. From this, create a universal sample by combining A and B. Then, create a resampled universal sample of the same size using random sampling with replacement. Finally, split this randomly generated universal set into two samples which are the same size as the original samples, A and B. The function should return these resampled samples.\n",
    "\n",
    "Example:\n",
    "\n",
    "```python\n",
    "\n",
    "A = [1,2,3]\n",
    "B = [2,2,5,6]\n",
    "\n",
    "Universal_Set = [1,2,2,2,3,5,6]\n",
    "Resampled_Universal_Set = [6, 2, 3, 2, 1, 1, 2] # Could be different (randomly generated with replacement)\n",
    "\n",
    "Resampled_A = [6,2,3]\n",
    "Resampled_B = [2,1,1,2]\n",
    "```"
   ]
  },
  {
   "cell_type": "code",
   "execution_count": 1,
   "metadata": {
    "ExecuteTime": {
     "end_time": "2023-04-29T12:33:25.821949Z",
     "start_time": "2023-04-29T12:33:25.664287Z"
    }
   },
   "outputs": [],
   "source": [
    "import numpy as np\n",
    "rng = np.random.default_rng()"
   ]
  },
  {
   "cell_type": "code",
   "execution_count": 2,
   "metadata": {
    "ExecuteTime": {
     "end_time": "2023-04-29T12:37:25.031650Z",
     "start_time": "2023-04-29T12:37:25.027027Z"
    }
   },
   "outputs": [],
   "source": [
    "def bootstrap(sample1,sample2):\n",
    "    U = sample1 + sample2\n",
    "    re_U = rng.choice(U,size= len(U))\n",
    "    resamp1 = re_U[:len(sample1)]\n",
    "    resamp2 = re_U[len(sample1):]\n",
    "    return resamp1, resamp2"
   ]
  },
  {
   "cell_type": "markdown",
   "metadata": {},
   "source": [
    "## Jackknife \n",
    "\n",
    "Write a function that creates additional samples by removing one element at a time. The function should do this for each of the `n` items in the original sample, returning `n` samples, each with `n-1` members."
   ]
  },
  {
   "cell_type": "code",
   "execution_count": 32,
   "metadata": {
    "ExecuteTime": {
     "end_time": "2023-04-29T12:52:30.724358Z",
     "start_time": "2023-04-29T12:52:30.719191Z"
    }
   },
   "outputs": [],
   "source": [
    "def jack1(sample):\n",
    "    \"\"\"This function should take in a list of n observations and return n lists\n",
    "    each with one member (presumably the nth) removed.\"\"\"\n",
    "    lst = []\n",
    "    for i in range(len(sample)):\n",
    "        samp_copy = sample.copy()\n",
    "        samp_copy.remove(samp_copy[i])\n",
    "        lst.append(samp_copy)\n",
    "    return lst"
   ]
  },
  {
   "cell_type": "code",
   "execution_count": 33,
   "metadata": {
    "ExecuteTime": {
     "end_time": "2023-04-29T12:52:32.025012Z",
     "start_time": "2023-04-29T12:52:32.018872Z"
    }
   },
   "outputs": [
    {
     "data": {
      "text/plain": [
       "[[2, 5, 6], [2, 5, 6], [2, 2, 6], [2, 2, 5]]"
      ]
     },
     "execution_count": 33,
     "metadata": {},
     "output_type": "execute_result"
    }
   ],
   "source": [
    "B = [2,2,5,6]\n",
    "jack1(B)"
   ]
  },
  {
   "cell_type": "markdown",
   "metadata": {},
   "source": [
    "## Permutation testing\n",
    "\n",
    "Define a function that generates all possible, equally sized, two set splits of two sets A and B. Sets A and B need not be the same size, but all of the generated two set splits should be of equal size. For example, if we had a set with 5 members and a set with 7 members, the function would return all possible 5-7 ordered splits of the 12 items.\n",
    "\n",
    "> Note that these are actually combinations! However, as noted previously, permutation tests really investigate possible regroupings of the data observations, so calculating combinations is a more efficient approach!\n",
    "\n",
    "\n",
    "Here's a more in depth example:\n",
    "\n",
    "```python\n",
    "A = [1, 2, 2]\n",
    "B = [1, 3]\n",
    "combT(A, B) \n",
    "[([1,2,2], [1,3]),\n",
    " ([1,2,3], [1,2]),\n",
    " ([1,1,2], [2,3]),\n",
    " ([1,1,3], [2,2]),\n",
    " ([2,2,3], [1,1])]\n",
    "               \n",
    "```  \n",
    "\n",
    "These are all the possible 3-2 member splits of the 5 elements: 1, 1, 2, 2, 3. "
   ]
  },
  {
   "cell_type": "code",
   "execution_count": 64,
   "metadata": {
    "ExecuteTime": {
     "end_time": "2023-04-29T13:29:41.120197Z",
     "start_time": "2023-04-29T13:29:41.114797Z"
    }
   },
   "outputs": [],
   "source": [
    "from itertools import combinations\n",
    "def combT(a,b):\n",
    "    U = a + b\n",
    "    combs = []\n",
    "    for i in set(combinations(U, len(a))):\n",
    "        U_copy = U.copy()\n",
    "        for j in i:\n",
    "            U_copy.remove(j)\n",
    "        samp1 = list(i)\n",
    "        samp2 = list(combinations(U_copy,len(U)-len(a)))\n",
    "        combs.append((samp1, samp2))\n",
    "    return combs"
   ]
  },
  {
   "cell_type": "code",
   "execution_count": 65,
   "metadata": {
    "ExecuteTime": {
     "end_time": "2023-04-29T13:29:42.603048Z",
     "start_time": "2023-04-29T13:29:42.595749Z"
    }
   },
   "outputs": [
    {
     "data": {
      "text/plain": [
       "[([1, 2, 1], [(2, 3)]),\n",
       " ([2, 2, 3], [(1, 1)]),\n",
       " ([1, 1, 3], [(2, 2)]),\n",
       " ([1, 2, 3], [(2, 1)]),\n",
       " ([2, 1, 3], [(2, 1)]),\n",
       " ([1, 2, 2], [(1, 3)]),\n",
       " ([2, 2, 1], [(1, 3)])]"
      ]
     },
     "execution_count": 65,
     "metadata": {},
     "output_type": "execute_result"
    }
   ],
   "source": [
    "A = [1, 2, 2]\n",
    "B = [1, 3]\n",
    "combT(A, B)"
   ]
  },
  {
   "cell_type": "markdown",
   "metadata": {},
   "source": [
    "## Permutation testing in Practice\n",
    "Let's further investigate the scenario proposed in the previous lesson. Below are two samples A and B. The samples are mock data for the blood pressure of sample patients. The research study is looking to validate whether there is a statistical difference in the blood pressure of these two groups using a 5% significance level.  First, calculate the mean blood pressure of each of the two samples. Then, calculate the difference of these means. From there, use your `combT()` function, defined above, to generate all the possible combinations of the entire sample data into A-B splits of equivalent sizes as the original sets. For each of these combinations, calculate the mean blood pressure of the two groups and record the difference between these sample means. The full collection of the difference in means between these generated samples will serve as the denominator to calculate the p-value associated with the difference between the original sample means.\n",
    "\n",
    "For example, in our small handwritten example above:\n",
    "\n",
    "$\\mu_a = \\frac{1+2+2}{3} = \\frac{5}{3}$  \n",
    "and  \n",
    "$\\mu_b = \\frac{1+3}{2} = \\frac{4}{2} = 2$  \n",
    "\n",
    "Giving us\n",
    "\n",
    "$\\mu_a - \\mu_b = \\frac{5}{3} - 2 = -\\frac{1}{3}$\n",
    "\n",
    "In comparison, for our various combinations we have:\n",
    "\n",
    "([1,2,2], [1,3]):  $\\mu_a - \\mu_b = \\frac{5}{3} - 2 = -\\frac{1}{3}$  \n",
    "([1,2,3], [1,2]):  $\\mu_a - \\mu_b = 2 - \\frac{3}{2} = \\frac{1}{2}$  \n",
    "([1,2,1], [2,3]):  $\\mu_a - \\mu_b = \\frac{4}{3} - \\frac{5}{3} = -\\frac{1}{2}$  \n",
    "([1,1,3], [2,2]):  $\\mu_a - \\mu_b = \\frac{5}{3} - 2 = -\\frac{1}{3}$  \n",
    "([2,2,3], [1,1]):  $\\mu_a - \\mu_b = \\frac{7}{3} - 1 = \\frac{4}{3}$  \n",
    "\n",
    "A standard hypothesis test for this scenario might be:\n",
    "\n",
    "$H_0: \\mu_a = \\mu_b$  \n",
    "$H_1: \\mu_a < \\mu_b$  \n",
    "  \n",
    "Thus comparing our sample difference to the differences of our possible combinations, we look at the number of experiments from our combinations space that were the same or greater than our sample statistic, divided by the total number of combinations. In this case, 4 out of 5 of the combination cases produced the same or greater differences in the two sample means. This value .8 is a strong indication that we cannot refute the null hypothesis for this instance."
   ]
  },
  {
   "cell_type": "code",
   "execution_count": 94,
   "metadata": {
    "ExecuteTime": {
     "end_time": "2023-04-29T13:56:43.386851Z",
     "start_time": "2023-04-29T13:56:43.377728Z"
    }
   },
   "outputs": [
    {
     "name": "stdout",
     "output_type": "stream",
     "text": [
      "-1.1666666666666667\n",
      "False\n",
      "1.3333333333333335\n",
      "True\n",
      "-0.33333333333333326\n",
      "True\n",
      "0.5\n",
      "True\n",
      "0.5\n",
      "True\n",
      "-0.33333333333333326\n",
      "True\n",
      "-0.33333333333333326\n",
      "True\n"
     ]
    },
    {
     "data": {
      "text/plain": [
       "0.8571428571428571"
      ]
     },
     "execution_count": 94,
     "metadata": {},
     "output_type": "execute_result"
    }
   ],
   "source": [
    "A = [1, 2, 2]\n",
    "B = [1, 3]\n",
    "test = combT(A, B)\n",
    "samp_diff = np.mean(A) - np.mean(B)\n",
    "count = []\n",
    "for i in range(len(test)):\n",
    "    sm1 = np.mean(test[i][0])\n",
    "    sm2 = np.mean(test[i][1])\n",
    "    print(sm1 - sm2)\n",
    "    comp = (sm1 - sm2) >= samp_diff\n",
    "    print(comp)\n",
    "    count.append(comp)\n",
    "np.sum(count)/len(test)"
   ]
  },
  {
   "cell_type": "code",
   "execution_count": 101,
   "metadata": {
    "ExecuteTime": {
     "end_time": "2023-04-29T13:56:48.178680Z",
     "start_time": "2023-04-29T13:56:48.170456Z"
    }
   },
   "outputs": [
    {
     "data": {
      "text/plain": [
       "0.8571428571428571"
      ]
     },
     "execution_count": 101,
     "metadata": {},
     "output_type": "execute_result"
    }
   ],
   "source": [
    "A = [1, 2, 2]\n",
    "B = [1, 3]\n",
    "test = combT(A, B)\n",
    "samp_diff = np.mean(A) - np.mean(B)\n",
    "count = 0\n",
    "for i in range(len(test)): \n",
    "    sm1 = np.mean(test[i][0])\n",
    "    sm2 = np.mean(test[i][1])\n",
    "    if (sm1 - sm2) >= samp_diff:\n",
    "        count += 1\n",
    "count/len(test)"
   ]
  },
  {
   "cell_type": "code",
   "execution_count": null,
   "metadata": {},
   "outputs": [],
   "source": []
  },
  {
   "cell_type": "code",
   "execution_count": 103,
   "metadata": {
    "ExecuteTime": {
     "end_time": "2023-04-29T13:59:07.317036Z",
     "start_time": "2023-04-29T13:59:07.310924Z"
    }
   },
   "outputs": [],
   "source": [
    "a = [109.6927759 , 120.27296943, 103.54012038, 114.16555857,\n",
    "       122.93336175, 110.9271756 , 114.77443758, 116.34159338,\n",
    "       112.66413025, 118.30562665, 132.31196515, 117.99000948]\n",
    "b = [123.98967482, 141.11969004, 117.00293412, 121.6419775 ,\n",
    "       123.2703033 , 123.76944385, 105.95249634, 114.87114479,\n",
    "       130.6878082 , 140.60768727, 121.95433026, 123.11996767,\n",
    "       129.93260914, 121.01049611]"
   ]
  },
  {
   "cell_type": "code",
   "execution_count": 104,
   "metadata": {
    "ExecuteTime": {
     "end_time": "2023-04-29T14:04:21.932765Z",
     "start_time": "2023-04-29T13:59:08.948274Z"
    }
   },
   "outputs": [
    {
     "data": {
      "text/plain": [
       "0.9890762811021258"
      ]
     },
     "execution_count": 104,
     "metadata": {},
     "output_type": "execute_result"
    }
   ],
   "source": [
    "comb = combT(a, b)\n",
    "samp_diff = np.mean(a) - np.mean(b)\n",
    "count = 0\n",
    "for i in range(len(comb)): \n",
    "    sm1 = np.mean(comb[i][0])\n",
    "    sm2 = np.mean(comb[i][1])\n",
    "    if (sm1 - sm2) >= samp_diff:\n",
    "        count += 1\n",
    "count/len(comb)\n",
    "\n",
    "# Your code here\n",
    "# ⏰ Expect your code to take several minutes to run"
   ]
  },
  {
   "cell_type": "markdown",
   "metadata": {},
   "source": [
    "## T-test revisited\n",
    "\n",
    "The parametric statistical test equivalent to our permutation test above would be a t-test of the two groups. Perform a t-test on the same data above in order to calculate the p-value. How does this compare to the above results?"
   ]
  },
  {
   "cell_type": "code",
   "execution_count": 115,
   "metadata": {
    "ExecuteTime": {
     "end_time": "2023-04-29T14:12:33.705584Z",
     "start_time": "2023-04-29T14:12:33.697924Z"
    }
   },
   "outputs": [
    {
     "data": {
      "text/plain": [
       "0.988473392339252"
      ]
     },
     "execution_count": 115,
     "metadata": {},
     "output_type": "execute_result"
    }
   ],
   "source": [
    "import scipy.stats as stats\n",
    "t, p = stats.ttest_ind(a,b)\n",
    "1 - p/2\n"
   ]
  },
  {
   "cell_type": "markdown",
   "metadata": {},
   "source": [
    "## Bootstrap applied\n",
    "\n",
    "Use your code above to apply the bootstrap technique to this hypothesis testing scenario. Here's a pseudo-code outline for how to do this:\n",
    "\n",
    "1. Compute the difference between the sample means of A and B\n",
    "2. Initialize a counter for the number of times the difference of the means of resampled samples is greater then or equal to the difference of the means of the original samples\n",
    "3. Repeat the following process 10,000 times:\n",
    "    1. Use the bootstrap sampling function you used above to create new resampled versions of A and B \n",
    "    2. Compute the difference between the means of these resampled samples \n",
    "    3. If the difference between the means of the resampled samples is greater then or equal to the original difference, add 1 the counter you created in step 2\n",
    "4. Compute the ratio between the counter and the number of simulations (10,000) that you performed\n",
    "    > This ratio is the percentage of simulations in which the difference of sample means was greater than the original difference"
   ]
  },
  {
   "cell_type": "code",
   "execution_count": 118,
   "metadata": {
    "ExecuteTime": {
     "end_time": "2023-04-29T14:18:46.994772Z",
     "start_time": "2023-04-29T14:18:46.564996Z"
    }
   },
   "outputs": [
    {
     "data": {
      "text/plain": [
       "0.9882"
      ]
     },
     "execution_count": 118,
     "metadata": {},
     "output_type": "execute_result"
    }
   ],
   "source": [
    "# Compute the difference between the sample means of A and B\n",
    "samp_diff = np.mean(a) - np.mean(b)\n",
    "count = 0\n",
    "for loop in range(10000):\n",
    "    ra, rb = bootstrap(a,b)\n",
    "    re_samp_diff = np.mean(ra) - np.mean(rb)\n",
    "    if re_samp_diff >= samp_diff:\n",
    "        count += 1\n",
    "count/10000"
   ]
  },
  {
   "cell_type": "markdown",
   "metadata": {},
   "source": [
    "## Summary\n",
    "\n",
    "Well done! In this lab, you practice coding modern statistical resampling techniques of the 20th century! You also started to compare these non-parametric methods to other parametric methods such as the t-test that we previously discussed."
   ]
  }
 ],
 "metadata": {
  "kernelspec": {
   "display_name": "Python 3",
   "language": "python",
   "name": "python3"
  },
  "language_info": {
   "codemirror_mode": {
    "name": "ipython",
    "version": 3
   },
   "file_extension": ".py",
   "mimetype": "text/x-python",
   "name": "python",
   "nbconvert_exporter": "python",
   "pygments_lexer": "ipython3",
   "version": "3.8.5"
  },
  "toc": {
   "base_numbering": 1,
   "nav_menu": {},
   "number_sections": true,
   "sideBar": true,
   "skip_h1_title": false,
   "title_cell": "Table of Contents",
   "title_sidebar": "Contents",
   "toc_cell": false,
   "toc_position": {},
   "toc_section_display": true,
   "toc_window_display": false
  }
 },
 "nbformat": 4,
 "nbformat_minor": 2
}
